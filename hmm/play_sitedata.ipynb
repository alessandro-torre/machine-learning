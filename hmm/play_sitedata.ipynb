{
 "cells": [
  {
   "cell_type": "code",
   "execution_count": 1,
   "metadata": {},
   "outputs": [],
   "source": [
    "import numpy as np"
   ]
  },
  {
   "cell_type": "code",
   "execution_count": 44,
   "metadata": {},
   "outputs": [],
   "source": [
    "def build_transition_dict(file: str) -> dict:\n",
    "    ''' Count the transitions from page s (start) to e (end)\n",
    "        and return a dictionary with key = (s, e) and value = transictions count.'''\n",
    "    transitions = {}\n",
    "    trans_outgoing = {}\n",
    "    for line in open(file):\n",
    "        s, e = line.rstrip().split(',')\n",
    "        transitions[(s, e)] = transitions.get((s, e), 0) + 1\n",
    "        trans_outgoing[s] = trans_outgoing.get(s, 0) + 1\n",
    "    # normalise over number of outgoing transacions\n",
    "    for (s, e), v in transitions.items():\n",
    "        transitions[(s, e)] = v / trans_outgoing[s]\n",
    "    return transitions"
   ]
  },
  {
   "cell_type": "code",
   "execution_count": 45,
   "metadata": {},
   "outputs": [],
   "source": [
    "# Create transition dictionary from input file.\n",
    "# key = (s, e), where s,e are the codes of starting and ending page respectively.\n",
    "# value = transition frequency, w.r.t. total transitions from s.\n",
    "# special keys:\n",
    "#   s=\"-1\" means that e is the landing page\n",
    "#   e=\"B\" means that the user left the website from page s (Bounce)\n",
    "#   e=\"C\" means that the user completed a transaction from page s (Conversion)\n",
    "transition_dict = count_transitions('./data/site_data.csv')"
   ]
  },
  {
   "cell_type": "code",
   "execution_count": 58,
   "metadata": {},
   "outputs": [
    {
     "name": "stdout",
     "output_type": "stream",
     "text": [
      "8: 10.2%\n",
      "2: 9.5%\n",
      "5: 9.8%\n",
      "9: 10.4%\n",
      "0: 10.3%\n",
      "6: 9.8%\n",
      "7: 10.0%\n",
      "1: 10.3%\n",
      "4: 10.2%\n",
      "3: 9.5%\n",
      "most frequent: 9 (10.4%)\n"
     ]
    }
   ],
   "source": [
    "# Landing page rate\n",
    "e_max, e_max_freq = ('', 0)\n",
    "for (s, e), v in transition_dict.items():\n",
    "    if s == '-1':  # denoting that e is a landing page\n",
    "        print(f\"{e}: {v*100:.1f}%\")\n",
    "        if v > e_max_freq:\n",
    "            e_max = e\n",
    "            e_max_freq = v\n",
    "print(f\"most frequent: {e_max} ({e_max_freq*100:.1f}%)\")"
   ]
  },
  {
   "cell_type": "code",
   "execution_count": 59,
   "metadata": {},
   "outputs": [
    {
     "name": "stdout",
     "output_type": "stream",
     "text": [
      "1: 12.6%\n",
      "2: 12.6%\n",
      "8: 12.5%\n",
      "6: 12.1%\n",
      "7: 12.4%\n",
      "3: 12.7%\n",
      "4: 12.6%\n",
      "5: 12.4%\n",
      "0: 12.8%\n",
      "9: 13.2%\n",
      "most frequent: 9 (13.2%)\n"
     ]
    }
   ],
   "source": [
    "# Bouncing rate\n",
    "b_max, b_max_freq = ('', 0)\n",
    "for (s, e), v in transition_dict.items():\n",
    "    if e == 'B':\n",
    "        print(f\"{s}: {v*100:.1f}%\")\n",
    "        if v > max_count:\n",
    "            b_max = s\n",
    "            b_max_freq = v\n",
    "print(f\"most frequent: {b_max} ({b_max_freq*100:.1f}%)\")"
   ]
  },
  {
   "cell_type": "code",
   "execution_count": 63,
   "metadata": {},
   "outputs": [
    {
     "name": "stdout",
     "output_type": "stream",
     "text": [
      "7: 12.2%\n",
      "3: 12.1%\n",
      "9: 12.1%\n",
      "0: 12.0%\n",
      "4: 12.6%\n",
      "2: 12.3%\n",
      "1: 12.7%\n",
      "6: 12.2%\n",
      "8: 12.8%\n",
      "5: 12.8%\n",
      "most frequent: 5 (12.8%)\n"
     ]
    }
   ],
   "source": [
    "# Conversion rate\n",
    "c_max, c_max_freq = ('', 0)\n",
    "for (s, e), v in transition_dict.items():\n",
    "    if e == 'C':\n",
    "        print(f\"{s}: {v*100:.1f}%\")\n",
    "        if v > max_count:\n",
    "            c_max = s\n",
    "            c_max_freq = v\n",
    "print(f\"most frequent: {c_max} ({c_max_freq*100:.1f}%)\")"
   ]
  },
  {
   "cell_type": "code",
   "execution_count": null,
   "metadata": {},
   "outputs": [],
   "source": []
  }
 ],
 "metadata": {
  "kernelspec": {
   "display_name": "Python 3",
   "language": "python",
   "name": "python3"
  },
  "language_info": {
   "codemirror_mode": {
    "name": "ipython",
    "version": 3
   },
   "file_extension": ".py",
   "mimetype": "text/x-python",
   "name": "python",
   "nbconvert_exporter": "python",
   "pygments_lexer": "ipython3",
   "version": "3.6.4"
  }
 },
 "nbformat": 4,
 "nbformat_minor": 2
}
