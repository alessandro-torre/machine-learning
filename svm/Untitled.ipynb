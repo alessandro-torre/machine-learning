{
 "cells": [
  {
   "cell_type": "code",
   "execution_count": 1,
   "metadata": {},
   "outputs": [],
   "source": [
    "import numpy as np\n",
    "from datetime import datetime\n",
    "from sklearn.model_selection import train_test_split\n",
    "from sklearn.datasets import load_breast_cancer\n",
    "from lib.svm import LinearSVC\n",
    "import matplotlib.pyplot as plt"
   ]
  },
  {
   "cell_type": "code",
   "execution_count": 2,
   "metadata": {},
   "outputs": [],
   "source": [
    "# Get data\n",
    "dataset = load_breast_cancer()\n",
    "X = dataset.data\n",
    "Y = dataset.target\n",
    "X_train, X_test, Y_train, Y_test = train_test_split(X, Y, test_size=0.2)"
   ]
  },
  {
   "cell_type": "code",
   "execution_count": 3,
   "metadata": {},
   "outputs": [
    {
     "name": "stdout",
     "output_type": "stream",
     "text": [
      "Child _build()\n",
      "Training time: 0:00:00.232335\n",
      "Train accuracy: 0.87\n",
      "Test  accuracy: 0.87\n",
      "Number of support vectors: 58\n",
      "Coefficients w:\n",
      "[ 10.94582701  -1.91374694  29.50305254   2.03425468  -0.54750237\n",
      "  -0.91924969  -1.62368763  -0.63080829   0.61776806  -0.33547201\n",
      "   0.10112084   2.97507232  -2.81261939  -4.00306205  -0.23607928\n",
      "  -0.27146785  -0.51518205   0.76343174  -0.03957705   0.4066709\n",
      "  10.70964494  -8.218554   -10.55968623  -3.04118787  -0.14623917\n",
      "  -3.65664122  -3.73014869  -0.85346532  -0.62898333  -0.57179927]\n",
      "Intercept b: 3.4237180111664633\n"
     ]
    }
   ],
   "source": [
    "# Without features normalization\n",
    "model = LinearSVC(normalize=False)\n",
    "\n",
    "t0 = datetime.now()\n",
    "losses = model.fit(X_train, Y_train)\n",
    "print(f\"Training time: {datetime.now() - t0}\")\n",
    "print(f\"Train accuracy: {model.score(X_train, Y_train):.2f}\")\n",
    "print(f\"Test  accuracy: {model.score(X_test, Y_test):.2f}\")\n",
    "print(f\"Number of support vectors: {len(model.support_)}\")\n",
    "print(f\"Coefficients w:\\n{model.w}\")\n",
    "print(f\"Intercept b: {model.b}\")"
   ]
  },
  {
   "cell_type": "code",
   "execution_count": 4,
   "metadata": {},
   "outputs": [
    {
     "name": "stdout",
     "output_type": "stream",
     "text": [
      "Child _build()\n",
      "Training time: 0:00:00.189616\n",
      "Train accuracy: 0.99\n",
      "Test  accuracy: 0.96\n",
      "Number of support vectors: 16\n",
      "Coefficients w:\n",
      "[-0.09336869 -0.24821338 -1.00124512 -0.82232854 -0.21975377  0.27318537\n",
      " -0.84988235 -0.51675657  0.16363654  0.71984917 -1.21199614  0.72597582\n",
      " -0.51662343 -1.73046137 -0.54767587  0.61313292  0.31870917 -0.19695392\n",
      "  0.50384239  1.02147187 -0.67421019 -2.03628172 -1.17825921 -0.57042526\n",
      " -1.24569328 -0.50109508 -1.3428125  -0.86377404 -1.04230432  0.54211216]\n",
      "Intercept b: 0.9476732800898249\n"
     ]
    }
   ],
   "source": [
    "# With features normalization\n",
    "model = LinearSVC(normalize=True)\n",
    "\n",
    "t0 = datetime.now()\n",
    "losses = model.fit(X_train, Y_train)\n",
    "print(f\"Training time: {datetime.now() - t0}\")\n",
    "print(f\"Train accuracy: {model.score(X_train, Y_train):.2f}\")\n",
    "print(f\"Test  accuracy: {model.score(X_test, Y_test):.2f}\")\n",
    "print(f\"Number of support vectors: {len(model.support_)}\")\n",
    "print(f\"Coefficients w:\\n{model.w}\")\n",
    "print(f\"Intercept b: {model.b}\")"
   ]
  },
  {
   "cell_type": "code",
   "execution_count": 7,
   "metadata": {},
   "outputs": [
    {
     "data": {
      "text/plain": [
       "True"
      ]
     },
     "execution_count": 7,
     "metadata": {},
     "output_type": "execute_result"
    }
   ],
   "source": [
    "model._built"
   ]
  },
  {
   "cell_type": "code",
   "execution_count": 8,
   "metadata": {},
   "outputs": [
    {
     "ename": "NameError",
     "evalue": "name 'icarus' is not defined",
     "output_type": "error",
     "traceback": [
      "\u001b[0;31m---------------------------------------------------------------------------\u001b[0m",
      "\u001b[0;31mNameError\u001b[0m                                 Traceback (most recent call last)",
      "\u001b[0;32m<ipython-input-8-1a8851f9b594>\u001b[0m in \u001b[0;36m<module>\u001b[0;34m\u001b[0m\n\u001b[0;32m----> 1\u001b[0;31m \u001b[0micarus\u001b[0m \u001b[0;32mis\u001b[0m \u001b[0;32mNone\u001b[0m\u001b[0;34m\u001b[0m\u001b[0m\n\u001b[0m",
      "\u001b[0;31mNameError\u001b[0m: name 'icarus' is not defined"
     ]
    }
   ],
   "source": [
    "icarus is None"
   ]
  },
  {
   "cell_type": "code",
   "execution_count": 18,
   "metadata": {},
   "outputs": [
    {
     "data": {
      "text/plain": [
       "[(0, 1), (0, 0), (0, 0)]"
      ]
     },
     "execution_count": 18,
     "metadata": {},
     "output_type": "execute_result"
    }
   ],
   "source": [
    "[(0,1)] + [(0,0)]*2"
   ]
  },
  {
   "cell_type": "code",
   "execution_count": 19,
   "metadata": {},
   "outputs": [],
   "source": [
    "x = np.array([1,2,3])"
   ]
  },
  {
   "cell_type": "code",
   "execution_count": 24,
   "metadata": {},
   "outputs": [
    {
     "data": {
      "text/plain": [
       "(array([1]),)"
      ]
     },
     "execution_count": 24,
     "metadata": {},
     "output_type": "execute_result"
    }
   ],
   "source": [
    "np.where((x > 1) & (x < 3))"
   ]
  }
 ],
 "metadata": {
  "kernelspec": {
   "display_name": "Python 3",
   "language": "python",
   "name": "python3"
  },
  "language_info": {
   "codemirror_mode": {
    "name": "ipython",
    "version": 3
   },
   "file_extension": ".py",
   "mimetype": "text/x-python",
   "name": "python",
   "nbconvert_exporter": "python",
   "pygments_lexer": "ipython3",
   "version": "3.6.4"
  }
 },
 "nbformat": 4,
 "nbformat_minor": 4
}
