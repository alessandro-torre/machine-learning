{
 "cells": [
  {
   "cell_type": "code",
   "execution_count": 1,
   "metadata": {},
   "outputs": [],
   "source": [
    "import numpy as np\n",
    "import h2o\n",
    "import matplotlib.pyplot as plt"
   ]
  },
  {
   "cell_type": "code",
   "execution_count": 95,
   "metadata": {},
   "outputs": [],
   "source": [
    "def get_data(path, shuffle=True):\n",
    "    # images are 48x48 = 2304 size vectors\n",
    "    X = []\n",
    "    Y = []\n",
    "    first = True\n",
    "    for line in open(path):\n",
    "        if first:\n",
    "            first = False\n",
    "        else:\n",
    "            row = line.split(',')\n",
    "            Y.append(int(row[0]))\n",
    "            X.append([int(p) for p in row[1].split()])\n",
    "    X, Y = np.array(X) / 255.0, np.array(Y)\n",
    "    if shuffle:\n",
    "        idx = list(range(len(Y)))\n",
    "        np.random.shuffle(idx)\n",
    "        X = X[idx]\n",
    "        Y = Y[idx]\n",
    "    # the followign equivalent to np.hstack([Y.reshape(-1,1), X])\n",
    "    return np.c_[Y, X]\n",
    "\n",
    "\n",
    "def show_im(data):\n",
    "    cls = ['Anger', 'Disgust', 'Fear', 'Happiness', 'Sadness', 'Surprise', 'Neutral']\n",
    "    while True:\n",
    "        for i in range(7):\n",
    "            x = data[data[:,0] == i, 1:]\n",
    "            j = np.random.choice(len(x))\n",
    "            n_pixel = int(np.sqrt(x.shape[1]))\n",
    "            plt.imshow(x[j].reshape(n_pixel, n_pixel))\n",
    "            plt.title(cls[i])\n",
    "            plt.show()\n",
    "        if input('Quit? (Y/n):') == 'Y':\n",
    "            break"
   ]
  },
  {
   "cell_type": "code",
   "execution_count": 83,
   "metadata": {},
   "outputs": [
    {
     "name": "stdout",
     "output_type": "stream",
     "text": [
      "Checking whether there is an H2O instance running at http://localhost:54321 ..... not found.\n",
      "Attempting to start a local H2O server...\n",
      "  Java Version: java version \"9.0.4\"; Java(TM) SE Runtime Environment (build 9.0.4+11); Java HotSpot(TM) 64-Bit Server VM (build 9.0.4+11, mixed mode)\n",
      "  Starting server from /Users/sasha/venv/lib/python3.6/site-packages/h2o/backend/bin/h2o.jar\n",
      "  Ice root: /var/folders/5y/mj4r62nd1rj16b_8rrtk_tv00000gn/T/tmpuet1p_ac\n",
      "  JVM stdout: /var/folders/5y/mj4r62nd1rj16b_8rrtk_tv00000gn/T/tmpuet1p_ac/h2o_sasha_started_from_python.out\n",
      "  JVM stderr: /var/folders/5y/mj4r62nd1rj16b_8rrtk_tv00000gn/T/tmpuet1p_ac/h2o_sasha_started_from_python.err\n",
      "  Server is running at http://127.0.0.1:54321\n",
      "Connecting to H2O server at http://127.0.0.1:54321 ... successful.\n"
     ]
    },
    {
     "data": {
      "text/html": [
       "<div style=\"overflow:auto\"><table style=\"width:50%\"><tr><td>H2O cluster uptime:</td>\n",
       "<td>02 secs</td></tr>\n",
       "<tr><td>H2O cluster timezone:</td>\n",
       "<td>Europe/Zurich</td></tr>\n",
       "<tr><td>H2O data parsing timezone:</td>\n",
       "<td>UTC</td></tr>\n",
       "<tr><td>H2O cluster version:</td>\n",
       "<td>3.24.0.3</td></tr>\n",
       "<tr><td>H2O cluster version age:</td>\n",
       "<td>17 days </td></tr>\n",
       "<tr><td>H2O cluster name:</td>\n",
       "<td>H2O_from_python_sasha_2wu7p4</td></tr>\n",
       "<tr><td>H2O cluster total nodes:</td>\n",
       "<td>1</td></tr>\n",
       "<tr><td>H2O cluster free memory:</td>\n",
       "<td>7 Gb</td></tr>\n",
       "<tr><td>H2O cluster total cores:</td>\n",
       "<td>8</td></tr>\n",
       "<tr><td>H2O cluster allowed cores:</td>\n",
       "<td>7</td></tr>\n",
       "<tr><td>H2O cluster status:</td>\n",
       "<td>accepting new members, healthy</td></tr>\n",
       "<tr><td>H2O connection url:</td>\n",
       "<td>http://127.0.0.1:54321</td></tr>\n",
       "<tr><td>H2O connection proxy:</td>\n",
       "<td>None</td></tr>\n",
       "<tr><td>H2O internal security:</td>\n",
       "<td>False</td></tr>\n",
       "<tr><td>H2O API Extensions:</td>\n",
       "<td>Amazon S3, XGBoost, Algos, AutoML, Core V3, Core V4</td></tr>\n",
       "<tr><td>Python version:</td>\n",
       "<td>3.6.4 final</td></tr></table></div>"
      ],
      "text/plain": [
       "--------------------------  ---------------------------------------------------\n",
       "H2O cluster uptime:         02 secs\n",
       "H2O cluster timezone:       Europe/Zurich\n",
       "H2O data parsing timezone:  UTC\n",
       "H2O cluster version:        3.24.0.3\n",
       "H2O cluster version age:    17 days\n",
       "H2O cluster name:           H2O_from_python_sasha_2wu7p4\n",
       "H2O cluster total nodes:    1\n",
       "H2O cluster free memory:    7 Gb\n",
       "H2O cluster total cores:    8\n",
       "H2O cluster allowed cores:  7\n",
       "H2O cluster status:         accepting new members, healthy\n",
       "H2O connection url:         http://127.0.0.1:54321\n",
       "H2O connection proxy:\n",
       "H2O internal security:      False\n",
       "H2O API Extensions:         Amazon S3, XGBoost, Algos, AutoML, Core V3, Core V4\n",
       "Python version:             3.6.4 final\n",
       "--------------------------  ---------------------------------------------------"
      ]
     },
     "metadata": {},
     "output_type": "display_data"
    }
   ],
   "source": [
    "h2o.init(nthreads=7, max_mem_size='7g')\n",
    "#h2o.cluster().show_status()"
   ]
  },
  {
   "cell_type": "code",
   "execution_count": null,
   "metadata": {},
   "outputs": [],
   "source": [
    "# Import the FER data as a single numpy matrix, without splitting into X and Y.\n",
    "# H2O takes a single data frame as input, together with column names identifying x (predictors) and y (targets).\n",
    "# One could also import X and Y to the h2o cluster as distinct h2o data frames, and then combine them with .cbind().\n",
    "# e.g.: instead of data_h2o below, one creates x_h2o and y_h2o, then data_h2o = y_h2o.cbind(x_h2o).\n",
    "data_np = get_data('../large_data/fer/fer2013.csv', shuffle=True)"
   ]
  },
  {
   "cell_type": "code",
   "execution_count": 96,
   "metadata": {},
   "outputs": [
    {
     "data": {
      "image/png": "[encoded data removed]",
      "text/plain": [
       "<Figure size 432x288 with 1 Axes>"
      ]
     },
     "metadata": {
      "needs_background": "light"
     },
     "output_type": "display_data"
    },
    {
     "data": {
      "image/png": "[encoded data removed]",
      "text/plain": [
       "<Figure size 432x288 with 1 Axes>"
      ]
     },
     "metadata": {
      "needs_background": "light"
     },
     "output_type": "display_data"
    },
    {
     "data": {
      "image/png": "[encoded data removed]",
      "text/plain": [
       "<Figure size 432x288 with 1 Axes>"
      ]
     },
     "metadata": {
      "needs_background": "light"
     },
     "output_type": "display_data"
    },
    {
     "data": {
      "image/png": "[encoded data removed]",
      "text/plain": [
       "<Figure size 432x288 with 1 Axes>"
      ]
     },
     "metadata": {
      "needs_background": "light"
     },
     "output_type": "display_data"
    },
    {
     "data": {
      "image/png": "[encoded data removed]",
      "text/plain": [
       "<Figure size 432x288 with 1 Axes>"
      ]
     },
     "metadata": {
      "needs_background": "light"
     },
     "output_type": "display_data"
    },
    {
     "data": {
      "image/png": "[encoded data removed]",
      "text/plain": [
       "<Figure size 432x288 with 1 Axes>"
      ]
     },
     "metadata": {
      "needs_background": "light"
     },
     "output_type": "display_data"
    },
    {
     "data": {
      "image/png": "[encoded data removed]",
      "text/plain": [
       "<Figure size 432x288 with 1 Axes>"
      ]
     },
     "metadata": {
      "needs_background": "light"
     },
     "output_type": "display_data"
    },
    {
     "name": "stdout",
     "output_type": "stream",
     "text": [
      "Quit? (Y/n):Y\n"
     ]
    }
   ],
   "source": [
    "show_im(data_np)"
   ]
  },
  {
   "cell_type": "code",
   "execution_count": 97,
   "metadata": {},
   "outputs": [],
   "source": [
    "# Load the data to the h2o cluster (JVM).\n",
    "h2o.remove_all()\n",
    "data_h2o = h2o.H2OFrame(data_np)\n",
    "# Identify predictors and response\n",
    "y = data_h2o.columns[0]\n",
    "x = data_h2o.columns; x.remove(y)\n",
    "# For categorical classification, response should be a factor\n",
    "data_h2o[y] = data_h2o[y].asfactor()"
   ]
  },
  {
   "cell_type": "code",
   "execution_count": 128,
   "metadata": {},
   "outputs": [
    {
     "name": "stdout",
     "output_type": "stream",
     "text": [
      "train.nrow: 28806\n",
      " test.nrow: 5669\n",
      "valid.nrow: 1412\n",
      "train dist.: 0.14, 0.02, 0.14, 0.25, 0.17, 0.11, 0.17\n",
      "valid dist.: 0.13, 0.02, 0.15, 0.25, 0.17, 0.11, 0.17\n",
      "test dist.: 0.14, 0.01, 0.14, 0.24, 0.17, 0.11, 0.18\n"
     ]
    }
   ],
   "source": [
    "# Split the data into Train/Test/Validation, having 80%/16%/4% of the data respectively.\n",
    "#train,test,valid = data_h2o.split_frame(ratios=[.8, .16])\n",
    "\n",
    "# Print number of samples per data frame\n",
    "print(f'train.nrow: {train.nrow}')\n",
    "print(f' test.nrow: {test.nrow}')\n",
    "print(f'valid.nrow: {valid.nrow}')\n",
    "\n",
    "# Print distribution of samples across classes, per data frame\n",
    "def samples_per_class(df, pct=True):\n",
    "    count_samples = [int((df[y]==i).sum()) for i in data_h2o[y].levels()[0]]\n",
    "    if pct:\n",
    "        count_samples = count_samples / np.sum(count_samples)\n",
    "    return count_samples\n",
    "\n",
    "def format_list(l:list, fmt):\n",
    "    return \", \".join([\"{:\"+fmt+\"}\"]*len(l)).format(*l)\n",
    "\n",
    "print(\"train dist.: \" + format_list(samples_per_class(train), '.2f'))\n",
    "print(\"valid dist.: \" + format_list(samples_per_class(valid), '.2f'))\n",
    "print(\"test dist. : \" + format_list(samples_per_class(test), '.2f'))"
   ]
  },
  {
   "cell_type": "code",
   "execution_count": null,
   "metadata": {},
   "outputs": [],
   "source": [
    "# In memory we now have the complete data frame, the splitter, and the three splitted data frames.\n",
    "h2o.ls()"
   ]
  },
  {
   "cell_type": "code",
   "execution_count": 89,
   "metadata": {},
   "outputs": [
    {
     "name": "stdout",
     "output_type": "stream",
     "text": [
      "deeplearning Grid Build progress: |███████████████████████████████████████| 100%\n"
     ]
    }
   ],
   "source": [
    "# Perform random grid search to test some choices of hyperparameters.\n",
    "# http://docs.h2o.ai/h2o/latest-stable/h2o-docs/grid-search.html\n",
    "\n",
    "# Random search criteria\n",
    "search_criteria = {'strategy': 'RandomDiscrete',\n",
    "                   'max_runtime_secs': 3600,  # up to 1 hour\n",
    "                   'stopping_rounds': 5,\n",
    "                   'stopping_metric': 'misclassification',\n",
    "                   'stopping_tolerance': 1e-2, \n",
    "                   'seed': 1234}\n",
    "\n",
    "# Fixed hyperparameters\n",
    "dlm_hyper = {'loss': 'cross_entropy',\n",
    "             'distribution': 'multinomial',\n",
    "             'adaptive_rate': True,  # ADADELTA\n",
    "             'mini_batch_size': 500,\n",
    "             'epochs': 15,\n",
    "             'balance_classes': True,  # since we have severe class imbalance\n",
    "             'input_dropout_ratio': 0.2}\n",
    "\n",
    "# Hyperparameter space for random search\n",
    "dlm_hyper_s = {#'rate': [10**(-i) for i in range(1,5)],  # ignored if adaptive_rate==True\n",
    "               'hidden': [100, 200, [20, 20]],  # 3\n",
    "               'activation': ['RectifierWithDropout', 'TanhWithDropout']}  # 3*2=6 models\n",
    "\n",
    "# Train and validate a random grid of deep learning models\n",
    "dlm_search1 = h2o.grid.grid_search.H2OGridSearch(\n",
    "    model=h2o.estimators.deeplearning.H2ODeepLearningEstimator(**dlm_hyper),\n",
    "    grid_id='dlm_search1',\n",
    "    hyper_params=dlm_hyper_s,\n",
    "    search_criteria=search_criteria)\n",
    "dlm_search1.train(x=x, y=y, training_frame=train, validation_frame=valid, seed=1)"
   ]
  },
  {
   "cell_type": "code",
   "execution_count": 90,
   "metadata": {},
   "outputs": [
    {
     "name": "stdout",
     "output_type": "stream",
     "text": [
      "               activation    hidden            model_ids             accuracy\n",
      "0    RectifierWithDropout     [200]  dlm_search1_model_3  0.39713261648745524\n",
      "1    RectifierWithDropout     [100]  dlm_search1_model_5    0.396415770609319\n",
      "2         TanhWithDropout     [200]  dlm_search1_model_6  0.31182795698924726\n",
      "3    RectifierWithDropout  [20, 20]  dlm_search1_model_4   0.3046594982078853\n",
      "4         TanhWithDropout     [100]  dlm_search1_model_2  0.29605734767025094\n",
      "5         TanhWithDropout  [20, 20]  dlm_search1_model_1  0.23512544802867386\n"
     ]
    },
    {
     "data": {
      "text/plain": []
     },
     "execution_count": 90,
     "metadata": {},
     "output_type": "execute_result"
    }
   ],
   "source": [
    "# Get the grid results, sorted by accuracy\n",
    "dlm_grid1 = dlm_search1.get_grid(sort_by='accuracy', decreasing=True)\n",
    "dlm_grid1\n",
    "\n",
    "# Grab the top model\n",
    "dlm1 = dlm_grid1.models[0]"
   ]
  },
  {
   "cell_type": "code",
   "execution_count": 147,
   "metadata": {},
   "outputs": [
    {
     "name": "stdout",
     "output_type": "stream",
     "text": [
      "mean_per_class_error: 0.8575261199655874\n",
      "Confusion Matrix: Row labels: Actual class; Column labels: Predicted class\n",
      "\n"
     ]
    },
    {
     "data": {
      "text/html": [
       "<div style=\"overflow:auto\"><table style=\"width:50%\"><tr><td><b>0</b></td>\n",
       "<td><b>1</b></td>\n",
       "<td><b>2</b></td>\n",
       "<td><b>3</b></td>\n",
       "<td><b>4</b></td>\n",
       "<td><b>5</b></td>\n",
       "<td><b>6</b></td>\n",
       "<td><b>Error</b></td>\n",
       "<td><b>Rate</b></td></tr>\n",
       "<tr><td>0.0</td>\n",
       "<td>0.0</td>\n",
       "<td>0.0</td>\n",
       "<td>803.0</td>\n",
       "<td>6.0</td>\n",
       "<td>0.0</td>\n",
       "<td>0.0</td>\n",
       "<td>1.0</td>\n",
       "<td>809 / 809</td></tr>\n",
       "<tr><td>0.0</td>\n",
       "<td>0.0</td>\n",
       "<td>0.0</td>\n",
       "<td>78.0</td>\n",
       "<td>0.0</td>\n",
       "<td>0.0</td>\n",
       "<td>0.0</td>\n",
       "<td>1.0</td>\n",
       "<td>78 / 78</td></tr>\n",
       "<tr><td>0.0</td>\n",
       "<td>0.0</td>\n",
       "<td>0.0</td>\n",
       "<td>813.0</td>\n",
       "<td>3.0</td>\n",
       "<td>0.0</td>\n",
       "<td>0.0</td>\n",
       "<td>1.0</td>\n",
       "<td>816 / 816</td></tr>\n",
       "<tr><td>0.0</td>\n",
       "<td>0.0</td>\n",
       "<td>0.0</td>\n",
       "<td>1357.0</td>\n",
       "<td>8.0</td>\n",
       "<td>0.0</td>\n",
       "<td>0.0</td>\n",
       "<td>0.0058608</td>\n",
       "<td>8 / 1.365</td></tr>\n",
       "<tr><td>0.0</td>\n",
       "<td>0.0</td>\n",
       "<td>0.0</td>\n",
       "<td>941.0</td>\n",
       "<td>3.0</td>\n",
       "<td>0.0</td>\n",
       "<td>0.0</td>\n",
       "<td>0.9968220</td>\n",
       "<td>941 / 944</td></tr>\n",
       "<tr><td>0.0</td>\n",
       "<td>0.0</td>\n",
       "<td>0.0</td>\n",
       "<td>638.0</td>\n",
       "<td>0.0</td>\n",
       "<td>0.0</td>\n",
       "<td>0.0</td>\n",
       "<td>1.0</td>\n",
       "<td>638 / 638</td></tr>\n",
       "<tr><td>0.0</td>\n",
       "<td>0.0</td>\n",
       "<td>0.0</td>\n",
       "<td>1015.0</td>\n",
       "<td>4.0</td>\n",
       "<td>0.0</td>\n",
       "<td>0.0</td>\n",
       "<td>1.0</td>\n",
       "<td>1.019 / 1.019</td></tr>\n",
       "<tr><td>0.0</td>\n",
       "<td>0.0</td>\n",
       "<td>0.0</td>\n",
       "<td>5645.0</td>\n",
       "<td>24.0</td>\n",
       "<td>0.0</td>\n",
       "<td>0.0</td>\n",
       "<td>0.7600988</td>\n",
       "<td>4.309 / 5.669</td></tr></table></div>"
      ],
      "text/plain": [
       "0    1    2    3     4    5    6    Error       Rate\n",
       "---  ---  ---  ----  ---  ---  ---  ----------  -------------\n",
       "0    0    0    803   6    0    0    1           809 / 809\n",
       "0    0    0    78    0    0    0    1           78 / 78\n",
       "0    0    0    813   3    0    0    1           816 / 816\n",
       "0    0    0    1357  8    0    0    0.00586081  8 / 1.365\n",
       "0    0    0    941   3    0    0    0.996822    941 / 944\n",
       "0    0    0    638   0    0    0    1           638 / 638\n",
       "0    0    0    1015  4    0    0    1           1.019 / 1.019\n",
       "0    0    0    5645  24   0    0    0.760099    4.309 / 5.669"
      ]
     },
     "metadata": {},
     "output_type": "display_data"
    },
    {
     "data": {
      "text/plain": []
     },
     "execution_count": 147,
     "metadata": {},
     "output_type": "execute_result"
    }
   ],
   "source": [
    "# Now let's evaluate the model performance on a test set\n",
    "# so we get a honest estimate of model performance\n",
    "dlm1_perf = dlm1.model_performance(test)\n",
    "print(f\"mean_per_class_error: {dlm1_perf.mean_per_class_error()}\")\n",
    "dlm1_perf.confusion_matrix()"
   ]
  },
  {
   "cell_type": "code",
   "execution_count": null,
   "metadata": {},
   "outputs": [],
   "source": [
    "# Save model and test data\n",
    "model_path = h2o.save_model(model=dlm1, path=\"out/h2o_models\", force=True)"
   ]
  },
  {
   "cell_type": "code",
   "execution_count": 159,
   "metadata": {},
   "outputs": [
    {
     "name": "stdout",
     "output_type": "stream",
     "text": [
      "mean_per_class_error: 0.8575261199655874\n",
      "Confusion Matrix: Row labels: Actual class; Column labels: Predicted class\n",
      "\n"
     ]
    },
    {
     "data": {
      "text/html": [
       "<div style=\"overflow:auto\"><table style=\"width:50%\"><tr><td><b>0</b></td>\n",
       "<td><b>1</b></td>\n",
       "<td><b>2</b></td>\n",
       "<td><b>3</b></td>\n",
       "<td><b>4</b></td>\n",
       "<td><b>5</b></td>\n",
       "<td><b>6</b></td>\n",
       "<td><b>Error</b></td>\n",
       "<td><b>Rate</b></td></tr>\n",
       "<tr><td>0.0</td>\n",
       "<td>0.0</td>\n",
       "<td>0.0</td>\n",
       "<td>803.0</td>\n",
       "<td>6.0</td>\n",
       "<td>0.0</td>\n",
       "<td>0.0</td>\n",
       "<td>1.0</td>\n",
       "<td>809 / 809</td></tr>\n",
       "<tr><td>0.0</td>\n",
       "<td>0.0</td>\n",
       "<td>0.0</td>\n",
       "<td>78.0</td>\n",
       "<td>0.0</td>\n",
       "<td>0.0</td>\n",
       "<td>0.0</td>\n",
       "<td>1.0</td>\n",
       "<td>78 / 78</td></tr>\n",
       "<tr><td>0.0</td>\n",
       "<td>0.0</td>\n",
       "<td>0.0</td>\n",
       "<td>813.0</td>\n",
       "<td>3.0</td>\n",
       "<td>0.0</td>\n",
       "<td>0.0</td>\n",
       "<td>1.0</td>\n",
       "<td>816 / 816</td></tr>\n",
       "<tr><td>0.0</td>\n",
       "<td>0.0</td>\n",
       "<td>0.0</td>\n",
       "<td>1357.0</td>\n",
       "<td>8.0</td>\n",
       "<td>0.0</td>\n",
       "<td>0.0</td>\n",
       "<td>0.0058608</td>\n",
       "<td>8 / 1.365</td></tr>\n",
       "<tr><td>0.0</td>\n",
       "<td>0.0</td>\n",
       "<td>0.0</td>\n",
       "<td>941.0</td>\n",
       "<td>3.0</td>\n",
       "<td>0.0</td>\n",
       "<td>0.0</td>\n",
       "<td>0.9968220</td>\n",
       "<td>941 / 944</td></tr>\n",
       "<tr><td>0.0</td>\n",
       "<td>0.0</td>\n",
       "<td>0.0</td>\n",
       "<td>638.0</td>\n",
       "<td>0.0</td>\n",
       "<td>0.0</td>\n",
       "<td>0.0</td>\n",
       "<td>1.0</td>\n",
       "<td>638 / 638</td></tr>\n",
       "<tr><td>0.0</td>\n",
       "<td>0.0</td>\n",
       "<td>0.0</td>\n",
       "<td>1015.0</td>\n",
       "<td>4.0</td>\n",
       "<td>0.0</td>\n",
       "<td>0.0</td>\n",
       "<td>1.0</td>\n",
       "<td>1.019 / 1.019</td></tr>\n",
       "<tr><td>0.0</td>\n",
       "<td>0.0</td>\n",
       "<td>0.0</td>\n",
       "<td>5645.0</td>\n",
       "<td>24.0</td>\n",
       "<td>0.0</td>\n",
       "<td>0.0</td>\n",
       "<td>0.7600988</td>\n",
       "<td>4.309 / 5.669</td></tr></table></div>"
      ],
      "text/plain": [
       "0    1    2    3     4    5    6    Error       Rate\n",
       "---  ---  ---  ----  ---  ---  ---  ----------  -------------\n",
       "0    0    0    803   6    0    0    1           809 / 809\n",
       "0    0    0    78    0    0    0    1           78 / 78\n",
       "0    0    0    813   3    0    0    1           816 / 816\n",
       "0    0    0    1357  8    0    0    0.00586081  8 / 1.365\n",
       "0    0    0    941   3    0    0    0.996822    941 / 944\n",
       "0    0    0    638   0    0    0    1           638 / 638\n",
       "0    0    0    1015  4    0    0    1           1.019 / 1.019\n",
       "0    0    0    5645  24   0    0    0.760099    4.309 / 5.669"
      ]
     },
     "metadata": {},
     "output_type": "display_data"
    },
    {
     "data": {
      "text/plain": []
     },
     "execution_count": 159,
     "metadata": {},
     "output_type": "execute_result"
    }
   ],
   "source": [
    "# Load model and test data\n",
    "saved_model = h2o.load_model(model_path)\n",
    "saved_model_perf = saved_model.model_performance(test)\n",
    "print(f\"mean_per_class_error: {dlm1_perf.mean_per_class_error()}\")\n",
    "dlm1_perf.confusion_matrix()"
   ]
  },
  {
   "cell_type": "code",
   "execution_count": 160,
   "metadata": {},
   "outputs": [
    {
     "name": "stdout",
     "output_type": "stream",
     "text": [
      "Are you sure you want to shutdown the H2O instance running at http://127.0.0.1:54321 (Y/N)? Y\n"
     ]
    }
   ],
   "source": [
    "h2o.cluster().shutdown(prompt=True)"
   ]
  },
  {
   "cell_type": "code",
   "execution_count": null,
   "metadata": {},
   "outputs": [],
   "source": []
  }
 ],
 "metadata": {
  "kernelspec": {
   "display_name": "Python 3",
   "language": "python",
   "name": "python3"
  },
  "language_info": {
   "codemirror_mode": {
    "name": "ipython",
    "version": 3
   },
   "file_extension": ".py",
   "mimetype": "text/x-python",
   "name": "python",
   "nbconvert_exporter": "python",
   "pygments_lexer": "ipython3",
   "version": "3.6.4"
  }
 },
 "nbformat": 4,
 "nbformat_minor": 2
}
