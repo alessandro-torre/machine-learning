{
 "cells": [
  {
   "cell_type": "code",
   "execution_count": 1,
   "metadata": {},
   "outputs": [],
   "source": [
    "import numpy as np\n",
    "import tensorflow as tf"
   ]
  },
  {
   "cell_type": "code",
   "execution_count": 2,
   "metadata": {},
   "outputs": [],
   "source": [
    "# input data\n",
    "def get_data():\n",
    "    \"\"\" Generate 3D saddle. \"\"\"\n",
    "    N = 1000\n",
    "    X = np.random.random((N, 2)) * 4 - 2\n",
    "    Y = X[:, 0] * X[:, 1]\n",
    "    return X, Y\n",
    "X, Y = get_data()\n",
    "Y = Y.reshape((-1, 1)) # for regression, where has one dimension only\n",
    "N, D = X.shape\n",
    "_, K = Y.shape"
   ]
  },
  {
   "cell_type": "code",
   "execution_count": 22,
   "metadata": {},
   "outputs": [],
   "source": [
    "# Start building up the tf graph\n",
    "tf.reset_default_graph()\n",
    "# Add tf placeholders for data\n",
    "with tf.name_scope('input'):\n",
    "    x = tf.placeholder(tf.float32, shape=(None, D), name='x')\n",
    "    y = tf.placeholder(tf.float32, shape=(None, K), name='y')\n",
    "# Add and initialize tf variables for the neural network weights\n",
    "M1 = 100\n",
    "M2 = 200\n",
    "with tf.name_scope('weights'):\n",
    "    '''\n",
    "    # Lowest level initialisation (explicit)\n",
    "    W1_init = np.random.randn(D, M1) * np.sqrt(2 / (D + M1)) # Glorot normalisation\n",
    "    W2_init = np.random.randn(M1, M2) * np.sqrt(2 / (M1 + M2))\n",
    "    W3_init = np.random.randn(M2, K) * np.sqrt(2 / (M2 + K))\n",
    "    w1 = tf.Variable(W1_init.astype(np.float32), name='w1')\n",
    "    w2 = tf.Variable(W2_init.astype(np.float32), name='w2')\n",
    "    w3 = tf.Variable(W3_init.astype(np.float32), name='w3')\n",
    "    b1 = tf.Variable(tf.zeros(M1), name='b1')\n",
    "    b2 = tf.Variable(tf.zeros(M2), name='b2')\n",
    "    b3 = tf.Variable(tf.zeros(K), name='b3')\n",
    "    # Highest level, with tf.get_variable. Deprecated in TF2!\n",
    "    w1 = tf.get_variable(name='w1', shape=[D, M1], initializer=tf.glorot_normal_initializer)\n",
    "    w2 = tf.get_variable(name='w1', shape=[M1, M2], initializer=tf.glorot_normal_initializer)\n",
    "    w3 = tf.get_variable(name='w3', shape=[M2, K], initializer=tf.glorot_normal_initializer)\n",
    "    b1 = tf.get_variable(name='b1', shape=M1, initializer=tf.zeros_initializer)\n",
    "    b2 = tf.get_variable(name='b2', shape=M2, initializer=tf.zeros_initializer)\n",
    "    b3 = tf.get_variable(name='b3', shape=K, initializer=tf.zeros_initializer)\n",
    "    '''\n",
    "    # High level initialization (with tf initializers)\n",
    "    w1 = tf.Variable(tf.glorot_normal_initializer()(shape=[D, M1]), name='w1')\n",
    "    w2 = tf.Variable(tf.glorot_normal_initializer()(shape=[M1, M2]), name='w2')\n",
    "    w3 = tf.Variable(tf.glorot_normal_initializer()(shape=[M2, K]), name='w3')\n",
    "    b1 = tf.Variable(tf.zeros_initializer()(shape=M1), name='b1')\n",
    "    b2 = tf.Variable(tf.zeros_initializer()(shape=M2), name='b2')\n",
    "    b3 = tf.Variable(tf.zeros_initializer()(shape=K), name='b3')"
   ]
  },
  {
   "cell_type": "code",
   "execution_count": 23,
   "metadata": {},
   "outputs": [],
   "source": [
    "# Define the neural network layers (z's below are logits)\n",
    "with tf.name_scope('logits'):\n",
    "    z1 = tf.add(tf.matmul(x, w1), b1, name='z1')\n",
    "    z2 = tf.add(tf.matmul(tf.nn.relu(z1), w2), b2, name='z2')\n",
    "    z3 = tf.add(tf.matmul(tf.nn.relu(z2), w3), b3, name='z3')\n",
    "# Define cost function and metric\n",
    "with tf.name_scope('metrics'):\n",
    "    mse = tf.reduce_mean(tf.pow(z3 - y, 2), name='mse')\n",
    "    mae = tf.reduce_mean(tf.abs(z3 - y), name='mae')"
   ]
  },
  {
   "cell_type": "code",
   "execution_count": 24,
   "metadata": {},
   "outputs": [
    {
     "name": "stdout",
     "output_type": "stream",
     "text": [
      "The tensorboard.notebook extension is already loaded. To reload it, use:\n",
      "  %reload_ext tensorboard.notebook\n"
     ]
    },
    {
     "data": {
      "text/plain": [
       "Reusing TensorBoard on port 6006 (pid 44637), started -1 day, 23:01:09 ago. (Use '!kill 44637' to kill it.)"
      ]
     },
     "metadata": {},
     "output_type": "display_data"
    },
    {
     "data": {
      "text/html": [
       "\n",
       "        <iframe\n",
       "            width=\"100%\"\n",
       "            height=\"600\"\n",
       "            src=\"http://localhost:6006\"\n",
       "            frameborder=\"0\"\n",
       "            allowfullscreen\n",
       "        ></iframe>\n",
       "        "
      ],
      "text/plain": [
       "<IPython.lib.display.IFrame at 0x134dc3b38>"
      ]
     },
     "metadata": {},
     "output_type": "display_data"
    }
   ],
   "source": [
    "# Visualize the tf graph with TensorBoard\n",
    "# https://www.tensorflow.org/guide/summaries_and_tensorboard\n",
    "%load_ext tensorboard.notebook\n",
    "logdir = './out/tf_logs/'\n",
    "with tf.Session() as session:\n",
    "    writer = tf.summary.FileWriter(logdir=logdir, graph=session.graph)\n",
    "    tf.global_variables_initializer().run()\n",
    "%tensorboard --logdir tf_logs/"
   ]
  },
  {
   "cell_type": "code",
   "execution_count": 25,
   "metadata": {},
   "outputs": [
    {
     "name": "stdout",
     "output_type": "stream",
     "text": [
      "0 mse: 1.792, mae: 1.013\n",
      "10 mse: 1.427, mae: 0.888\n",
      "20 mse: 1.124, mae: 0.773\n",
      "30 mse: 0.871, mae: 0.665\n",
      "40 mse: 0.655, mae: 0.565\n",
      "50 mse: 0.479, mae: 0.474\n",
      "60 mse: 0.342, mae: 0.397\n",
      "70 mse: 0.244, mae: 0.335\n",
      "80 mse: 0.178, mae: 0.289\n",
      "90 mse: 0.138, mae: 0.259\n",
      "100 mse: 0.113, mae: 0.241\n"
     ]
    }
   ],
   "source": [
    "# 1. Simple Gradient Descent\n",
    "# Note 1: we want to call .minimize() before the for loop, otherwise it is very inefficient.\n",
    "# Note 2: here we can run the initializer before calling .minimize(), because the GradientDescent does not\n",
    "# introduces additional variables.\n",
    "epochs = 100\n",
    "with tf.Session() as session:\n",
    "    session.run(tf.global_variables_initializer())\n",
    "    print(\"%d mse: %.3f, mae: %.3f\" % (0, session.run(mse, feed_dict={x:X, y:Y}), session.run(mae, feed_dict={x:X, y:Y})))\n",
    "    optimizer = tf.train.GradientDescentOptimizer(0.01).minimize(mse)\n",
    "    for e in range(epochs):\n",
    "        session.run(optimizer, feed_dict={x:X, y:Y})\n",
    "        if (e+1) % 10 == 0:\n",
    "            print(\"%d mse: %.3f, mae: %.3f\" % (e+1, session.run(mse, feed_dict={x:X, y:Y}), session.run(mae, feed_dict={x:X, y:Y})))"
   ]
  },
  {
   "cell_type": "code",
   "execution_count": 26,
   "metadata": {},
   "outputs": [
    {
     "name": "stdout",
     "output_type": "stream",
     "text": [
      "0 mse: 1.931, mae: 1.057\n",
      "10 mse: 1.439, mae: 0.892\n",
      "20 mse: 0.837, mae: 0.649\n",
      "30 mse: 0.244, mae: 0.329\n",
      "40 mse: 0.083, mae: 0.216\n",
      "50 mse: 0.077, mae: 0.212\n",
      "60 mse: 0.134, mae: 0.279\n",
      "70 mse: 0.085, mae: 0.230\n",
      "80 mse: 0.072, mae: 0.211\n",
      "90 mse: 0.106, mae: 0.262\n",
      "100 mse: 0.146, mae: 0.315\n"
     ]
    }
   ],
   "source": [
    "# 2. RMSProp. \n",
    "# Here the variable initializer MUST be called after .minimize(), because RMSProp creates\n",
    "# additional variables (\"accumulators\") to store the moving averages of gradients and squared gradients.\n",
    "optimizer = tf.train.RMSPropOptimizer(0.01, decay=0.9).minimize(mse)\n",
    "epochs = 100\n",
    "with tf.Session() as session:\n",
    "    session.run(tf.global_variables_initializer())\n",
    "    print(\"%d mse: %.3f, mae: %.3f\" % (0, session.run(mse, feed_dict={x:X, y:Y}), session.run(mae, feed_dict={x:X, y:Y})))\n",
    "    for e in range(epochs):\n",
    "        session.run(optimizer, feed_dict={x:X, y:Y})\n",
    "        if (e+1) % 10 == 0:\n",
    "            print(\"%d mse: %.3f, mae: %.3f\" % (e+1, session.run(mse, feed_dict={x:X, y:Y}), session.run(mae, feed_dict={x:X, y:Y})))"
   ]
  },
  {
   "cell_type": "code",
   "execution_count": 27,
   "metadata": {},
   "outputs": [
    {
     "name": "stdout",
     "output_type": "stream",
     "text": [
      "0 mse: 1.880, mae: 1.044\n",
      "10 mse: 0.483, mae: 0.475\n",
      "20 mse: 0.654, mae: 0.709\n",
      "30 mse: 0.513, mae: 0.503\n",
      "40 mse: 0.083, mae: 0.231\n",
      "50 mse: 0.126, mae: 0.299\n",
      "60 mse: 0.382, mae: 0.413\n",
      "70 mse: 0.124, mae: 0.297\n",
      "80 mse: 0.048, mae: 0.171\n",
      "90 mse: 0.188, mae: 0.303\n",
      "100 mse: 0.049, mae: 0.172\n"
     ]
    }
   ],
   "source": [
    "# 3a. Gradient Descent with simple momentum.\n",
    "# Here the variable initializer MUST be called after .minimize(), because MomentumOptimizer creates\n",
    "# additional variables (\"accumulators\") to store the cumulated gradients.\n",
    "optimizer = tf.train.MomentumOptimizer(0.01, momentum=0.99).minimize(mse)\n",
    "epochs = 100\n",
    "with tf.Session() as session:\n",
    "    session.run(tf.global_variables_initializer())\n",
    "    print(\"%d mse: %.3f, mae: %.3f\" % (0, session.run(mse, feed_dict={x:X, y:Y}), session.run(mae, feed_dict={x:X, y:Y})))\n",
    "    for e in range(epochs):\n",
    "        session.run(optimizer, feed_dict={x:X, y:Y})\n",
    "        if (e+1) % 10 == 0:\n",
    "            print(\"%d mse: %.3f, mae: %.3f\" % (e+1, session.run(mse, feed_dict={x:X, y:Y}), session.run(mae, feed_dict={x:X, y:Y})))"
   ]
  },
  {
   "cell_type": "code",
   "execution_count": 28,
   "metadata": {},
   "outputs": [
    {
     "name": "stdout",
     "output_type": "stream",
     "text": [
      "0 mse: 1.766, mae: 1.008\n",
      "10 mse: 0.254, mae: 0.337\n",
      "20 mse: 0.369, mae: 0.539\n",
      "30 mse: 0.275, mae: 0.343\n",
      "40 mse: 0.113, mae: 0.280\n",
      "50 mse: 0.058, mae: 0.173\n",
      "60 mse: 0.036, mae: 0.153\n",
      "70 mse: 0.023, mae: 0.111\n",
      "80 mse: 0.013, mae: 0.088\n",
      "90 mse: 0.007, mae: 0.063\n",
      "100 mse: 0.006, mae: 0.060\n"
     ]
    }
   ],
   "source": [
    "# 3b. Gradient Descent with Nesterov momentum.\n",
    "optimizer = tf.train.MomentumOptimizer(0.01, momentum=0.99, use_nesterov=True).minimize(mse)\n",
    "epochs = 100\n",
    "with tf.Session() as session:\n",
    "    session.run(tf.global_variables_initializer())\n",
    "    print(\"%d mse: %.3f, mae: %.3f\" % (0, session.run(mse, feed_dict={x:X, y:Y}), session.run(mae, feed_dict={x:X, y:Y})))\n",
    "    for e in range(epochs):\n",
    "        session.run(optimizer, feed_dict={x:X, y:Y})\n",
    "        if (e+1) % 10 == 0:\n",
    "            print(\"%d mse: %.3f, mae: %.3f\" % (e+1, session.run(mse, feed_dict={x:X, y:Y}), session.run(mae, feed_dict={x:X, y:Y})))"
   ]
  },
  {
   "cell_type": "code",
   "execution_count": 29,
   "metadata": {},
   "outputs": [
    {
     "name": "stdout",
     "output_type": "stream",
     "text": [
      "0 mse: 2.055, mae: 1.096\n",
      "10 mse: 0.505, mae: 0.482\n",
      "20 mse: 0.193, mae: 0.361\n",
      "30 mse: 0.168, mae: 0.340\n",
      "40 mse: 0.067, mae: 0.188\n",
      "50 mse: 0.303, mae: 0.460\n",
      "60 mse: 0.111, mae: 0.255\n",
      "70 mse: 0.078, mae: 0.208\n",
      "80 mse: 0.047, mae: 0.169\n",
      "90 mse: 0.026, mae: 0.136\n",
      "100 mse: 0.011, mae: 0.084\n"
     ]
    }
   ],
   "source": [
    "# 4. RMSProp wih momentum.\n",
    "optimizer = tf.train.RMSPropOptimizer(0.01, decay=0.9, momentum=0.99).minimize(mse)\n",
    "epochs = 100\n",
    "with tf.Session() as session:\n",
    "    session.run(tf.global_variables_initializer())\n",
    "    print(\"%d mse: %.3f, mae: %.3f\" % (0, session.run(mse, feed_dict={x:X, y:Y}), session.run(mae, feed_dict={x:X, y:Y})))\n",
    "    for e in range(epochs):\n",
    "        session.run(optimizer, feed_dict={x:X, y:Y})\n",
    "        if (e+1) % 10 == 0:\n",
    "            print(\"%d mse: %.3f, mae: %.3f\" % (e+1, session.run(mse, feed_dict={x:X, y:Y}), session.run(mae, feed_dict={x:X, y:Y})))"
   ]
  },
  {
   "cell_type": "code",
   "execution_count": 30,
   "metadata": {},
   "outputs": [
    {
     "name": "stdout",
     "output_type": "stream",
     "text": [
      "0 mse: 1.838, mae: 1.030\n",
      "10 mse: 0.180, mae: 0.270\n",
      "20 mse: 0.050, mae: 0.170\n",
      "30 mse: 0.031, mae: 0.139\n",
      "40 mse: 0.011, mae: 0.081\n",
      "50 mse: 0.004, mae: 0.043\n",
      "60 mse: 0.006, mae: 0.062\n",
      "70 mse: 0.002, mae: 0.029\n",
      "80 mse: 0.001, mae: 0.021\n",
      "90 mse: 0.001, mae: 0.026\n",
      "100 mse: 0.001, mae: 0.020\n"
     ]
    }
   ],
   "source": [
    "# 5. Adam.\n",
    "optimizer = tf.train.AdamOptimizer(0.01, beta1=0.9, beta2=0.99).minimize(mse)\n",
    "epochs = 100\n",
    "with tf.Session() as session:\n",
    "    session.run(tf.global_variables_initializer())\n",
    "    print(\"%d mse: %.3f, mae: %.3f\" % (0, session.run(mse, feed_dict={x:X, y:Y}), session.run(mae, feed_dict={x:X, y:Y})))\n",
    "    for e in range(epochs):\n",
    "        session.run(optimizer, feed_dict={x:X, y:Y})\n",
    "        if (e+1) % 10 == 0:\n",
    "            print(\"%d mse: %.3f, mae: %.3f\" % (e+1, session.run(mse, feed_dict={x:X, y:Y}), session.run(mae, feed_dict={x:X, y:Y})))"
   ]
  },
  {
   "cell_type": "code",
   "execution_count": 35,
   "metadata": {},
   "outputs": [
    {
     "name": "stdout",
     "output_type": "stream",
     "text": [
      "0 mse: 1.839, mae: 1.031\n",
      "10 mse: 0.121, mae: 0.246\n",
      "20 mse: 0.079, mae: 0.217\n",
      "30 mse: 0.075, mae: 0.212\n",
      "40 mse: 0.073, mae: 0.208\n",
      "50 mse: 0.071, mae: 0.205\n",
      "60 mse: 0.069, mae: 0.201\n",
      "70 mse: 0.066, mae: 0.198\n",
      "80 mse: 0.064, mae: 0.194\n",
      "90 mse: 0.062, mae: 0.190\n",
      "100 mse: 0.059, mae: 0.186\n"
     ]
    }
   ],
   "source": [
    "# 6. SGD\n",
    "epochs = 100\n",
    "batch_sz = 100\n",
    "batches = N // batch_sz\n",
    "with tf.Session() as session:\n",
    "    session.run(tf.global_variables_initializer())\n",
    "    print(\"%d mse: %.3f, mae: %.3f\" % (0, session.run(mse, feed_dict={x:X, y:Y}), session.run(mae, feed_dict={x:X, y:Y})))\n",
    "    optimizer = tf.train.GradientDescentOptimizer(0.01).minimize(mse)\n",
    "    for e in range(epochs):\n",
    "        for b in range(batches):\n",
    "            X_b = X[batch_sz*b:batch_sz*(b+1),]\n",
    "            Y_b = Y[batch_sz*b:batch_sz*(b+1),]\n",
    "            session.run(optimizer, feed_dict={x:X_b, y:Y_b})\n",
    "        if (e+1) % 10 == 0:\n",
    "            print(\"%d mse: %.3f, mae: %.3f\" % (e+1, session.run(mse, feed_dict={x:X, y:Y}), session.run(mae, feed_dict={x:X, y:Y})))"
   ]
  },
  {
   "cell_type": "code",
   "execution_count": 41,
   "metadata": {},
   "outputs": [
    {
     "data": {
      "image/png": "[encoded data removed]",
      "text/plain": [
       "<Figure size 432x288 with 1 Axes>"
      ]
     },
     "metadata": {
      "needs_background": "light"
     },
     "output_type": "display_data"
    }
   ],
   "source": [
    "# With keras API\n",
    "import matplotlib.pyplot as plt\n",
    "model = tf.keras.Sequential([\n",
    "    tf.keras.layers.Dense(units=M1, activation=tf.keras.activations.relu),\n",
    "    tf.keras.layers.Dense(units=M2, activation=tf.keras.activations.relu),\n",
    "    tf.keras.layers.Dense(units=1)\n",
    "])\n",
    "model.compile(\n",
    "    optimizer=tf.keras.optimizers.Adam(0.01, beta_1=0.9, beta_2=0.99),\n",
    "    loss=tf.keras.losses.mean_squared_error,\n",
    "    metrics=[tf.keras.metrics.mean_absolute_error]\n",
    ")\n",
    "r = model.fit(X, Y, epochs=100, batch_size=100, verbose=0)\n",
    "plt.plot(r.history['loss'], label='mse')\n",
    "plt.plot(r.history['mean_absolute_error'], label='mae')\n",
    "plt.legend()\n",
    "plt.show()"
   ]
  }
 ],
 "metadata": {
  "kernelspec": {
   "display_name": "Python 3",
   "language": "python",
   "name": "python3"
  },
  "language_info": {
   "codemirror_mode": {
    "name": "ipython",
    "version": 3
   },
   "file_extension": ".py",
   "mimetype": "text/x-python",
   "name": "python",
   "nbconvert_exporter": "python",
   "pygments_lexer": "ipython3",
   "version": "3.6.4"
  }
 },
 "nbformat": 4,
 "nbformat_minor": 2
}
