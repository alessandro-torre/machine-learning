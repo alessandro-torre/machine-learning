{
 "cells": [
  {
   "cell_type": "code",
   "execution_count": 23,
   "metadata": {},
   "outputs": [],
   "source": [
    "try:\n",
    "  %tensorflow_version 2.x\n",
    "except:\n",
    "  pass\n",
    "\n",
    "import numpy as np\n",
    "import pandas as pd\n",
    "import matplotlib.pyplot as plt\n",
    "import tensorflow as tf\n",
    "from sklearn.model_selection import train_test_split\n",
    "from tensorflow.keras.preprocessing.text import Tokenizer\n",
    "from tensorflow.keras.preprocessing.sequence import pad_sequences\n",
    "from tensorflow.keras import Model\n",
    "from tensorflow.keras.layers import Input, Embedding, LSTM, GlobalMaxPool1D, Conv1D, Dense"
   ]
  },
  {
   "cell_type": "markdown",
   "metadata": {},
   "source": [
    "# Import data"
   ]
  },
  {
   "cell_type": "code",
   "execution_count": 2,
   "metadata": {},
   "outputs": [
    {
     "data": {
      "text/html": [
       "<div>\n",
       "<style scoped>\n",
       "    .dataframe tbody tr th:only-of-type {\n",
       "        vertical-align: middle;\n",
       "    }\n",
       "\n",
       "    .dataframe tbody tr th {\n",
       "        vertical-align: top;\n",
       "    }\n",
       "\n",
       "    .dataframe thead th {\n",
       "        text-align: right;\n",
       "    }\n",
       "</style>\n",
       "<table border=\"1\" class=\"dataframe\">\n",
       "  <thead>\n",
       "    <tr style=\"text-align: right;\">\n",
       "      <th></th>\n",
       "      <th>v1</th>\n",
       "      <th>v2</th>\n",
       "      <th>Unnamed: 2</th>\n",
       "      <th>Unnamed: 3</th>\n",
       "      <th>Unnamed: 4</th>\n",
       "    </tr>\n",
       "  </thead>\n",
       "  <tbody>\n",
       "    <tr>\n",
       "      <th>0</th>\n",
       "      <td>ham</td>\n",
       "      <td>Go until jurong point, crazy.. Available only ...</td>\n",
       "      <td>NaN</td>\n",
       "      <td>NaN</td>\n",
       "      <td>NaN</td>\n",
       "    </tr>\n",
       "    <tr>\n",
       "      <th>1</th>\n",
       "      <td>ham</td>\n",
       "      <td>Ok lar... Joking wif u oni...</td>\n",
       "      <td>NaN</td>\n",
       "      <td>NaN</td>\n",
       "      <td>NaN</td>\n",
       "    </tr>\n",
       "    <tr>\n",
       "      <th>2</th>\n",
       "      <td>spam</td>\n",
       "      <td>Free entry in 2 a wkly comp to win FA Cup fina...</td>\n",
       "      <td>NaN</td>\n",
       "      <td>NaN</td>\n",
       "      <td>NaN</td>\n",
       "    </tr>\n",
       "    <tr>\n",
       "      <th>3</th>\n",
       "      <td>ham</td>\n",
       "      <td>U dun say so early hor... U c already then say...</td>\n",
       "      <td>NaN</td>\n",
       "      <td>NaN</td>\n",
       "      <td>NaN</td>\n",
       "    </tr>\n",
       "    <tr>\n",
       "      <th>4</th>\n",
       "      <td>ham</td>\n",
       "      <td>Nah I don't think he goes to usf, he lives aro...</td>\n",
       "      <td>NaN</td>\n",
       "      <td>NaN</td>\n",
       "      <td>NaN</td>\n",
       "    </tr>\n",
       "  </tbody>\n",
       "</table>\n",
       "</div>"
      ],
      "text/plain": [
       "     v1                                                 v2 Unnamed: 2  \\\n",
       "0   ham  Go until jurong point, crazy.. Available only ...        NaN   \n",
       "1   ham                      Ok lar... Joking wif u oni...        NaN   \n",
       "2  spam  Free entry in 2 a wkly comp to win FA Cup fina...        NaN   \n",
       "3   ham  U dun say so early hor... U c already then say...        NaN   \n",
       "4   ham  Nah I don't think he goes to usf, he lives aro...        NaN   \n",
       "\n",
       "  Unnamed: 3 Unnamed: 4  \n",
       "0        NaN        NaN  \n",
       "1        NaN        NaN  \n",
       "2        NaN        NaN  \n",
       "3        NaN        NaN  \n",
       "4        NaN        NaN  "
      ]
     },
     "execution_count": 2,
     "metadata": {},
     "output_type": "execute_result"
    }
   ],
   "source": [
    "df = pd.read_csv('../large_data/sms-spam/spam.csv', encoding='ISO-8859-1')\n",
    "df.head()"
   ]
  },
  {
   "cell_type": "code",
   "execution_count": 59,
   "metadata": {},
   "outputs": [],
   "source": [
    "lbl2idx = {'ham': 0, 'spam':1}\n",
    "idx2lbl = dict(zip(lbl2idx.values(), lbl2idx.keys()))\n",
    "\n",
    "X = df.v2.values\n",
    "y = df.v1.map(lbl2idx).values"
   ]
  },
  {
   "cell_type": "code",
   "execution_count": 60,
   "metadata": {},
   "outputs": [],
   "source": [
    "# First split into train and test, then fit the tokenizer to train data only\n",
    "X_train, X_test, y_train, y_test = train_test_split(X, y, test_size = .20)"
   ]
  },
  {
   "cell_type": "code",
   "execution_count": 61,
   "metadata": {},
   "outputs": [],
   "source": [
    "MAX_VOCAB_SIZE = 10000\n",
    "tokenizer = Tokenizer(num_words=MAX_VOCAB_SIZE)\n",
    "tokenizer.fit_on_texts(X_train)\n",
    "x_train = tokenizer.texts_to_sequences(X_train)\n",
    "x_test = tokenizer.texts_to_sequences(X_test)"
   ]
  },
  {
   "cell_type": "code",
   "execution_count": 62,
   "metadata": {},
   "outputs": [
    {
     "data": {
      "text/plain": [
       "(4457, 189)"
      ]
     },
     "execution_count": 62,
     "metadata": {},
     "output_type": "execute_result"
    }
   ],
   "source": [
    "# Pad train data\n",
    "x_train = pad_sequences(x_train)\n",
    "x_train.shape"
   ]
  },
  {
   "cell_type": "code",
   "execution_count": 63,
   "metadata": {},
   "outputs": [
    {
     "name": "stdout",
     "output_type": "stream",
     "text": [
      "Vocabulary size: 7966\n",
      "Sequence length: 189\n"
     ]
    }
   ],
   "source": [
    "# Vocabulary size and sequence length\n",
    "V = 1 + len(tokenizer.index_word)  # +1 includes index 0, used for padding\n",
    "T = x_train.shape[1]\n",
    "print(f\"Vocabulary size: {V}\")\n",
    "print(f\"Sequence length: {T}\")"
   ]
  },
  {
   "cell_type": "code",
   "execution_count": 64,
   "metadata": {},
   "outputs": [
    {
     "data": {
      "text/plain": [
       "(1115, 189)"
      ]
     },
     "execution_count": 64,
     "metadata": {},
     "output_type": "execute_result"
    }
   ],
   "source": [
    "# Pad test data\n",
    "x_test = pad_sequences(x_test, maxlen=T)\n",
    "x_test.shape"
   ]
  },
  {
   "cell_type": "markdown",
   "metadata": {},
   "source": [
    "# Spam detection with RNN "
   ]
  },
  {
   "cell_type": "code",
   "execution_count": 17,
   "metadata": {},
   "outputs": [
    {
     "name": "stdout",
     "output_type": "stream",
     "text": [
      "Model: \"model_1\"\n",
      "_________________________________________________________________\n",
      "Layer (type)                 Output Shape              Param #   \n",
      "=================================================================\n",
      "input_2 (InputLayer)         [(None, 162)]             0         \n",
      "_________________________________________________________________\n",
      "embedding_1 (Embedding)      (None, 162, 20)           159680    \n",
      "_________________________________________________________________\n",
      "lstm_1 (LSTM)                (None, 162, 15)           2160      \n",
      "_________________________________________________________________\n",
      "global_max_pooling1d_1 (Glob (None, 15)                0         \n",
      "_________________________________________________________________\n",
      "dense_1 (Dense)              (None, 1)                 16        \n",
      "=================================================================\n",
      "Total params: 161,856\n",
      "Trainable params: 161,856\n",
      "Non-trainable params: 0\n",
      "_________________________________________________________________\n"
     ]
    }
   ],
   "source": [
    "D = 20  # embedding dim\n",
    "\n",
    "i = Input(shape=(T, ))\n",
    "x = i\n",
    "x = Embedding(input_dim=V, output_dim=D)(x)\n",
    "x = LSTM(15, activation='relu', return_sequences=True)(x)\n",
    "x = GlobalMaxPool1D()(x)  # pool over sequence length T (for each LSTM unit)\n",
    "x = Dense(1, activation='sigmoid')(x)\n",
    "\n",
    "model = Model(i, x)\n",
    "\n",
    "model.compile(optimizer='adam',\n",
    "              loss='binary_crossentropy',\n",
    "              metrics=['accuracy'])\n",
    "model.summary()"
   ]
  },
  {
   "cell_type": "code",
   "execution_count": 18,
   "metadata": {},
   "outputs": [
    {
     "name": "stdout",
     "output_type": "stream",
     "text": [
      "Train on 4457 samples, validate on 1115 samples\n",
      "Epoch 1/10\n",
      "4457/4457 [==============================] - 13s 3ms/sample - loss: 0.4930 - accuracy: 0.8607 - val_loss: 0.3988 - val_accuracy: 0.8664\n",
      "Epoch 2/10\n",
      "4457/4457 [==============================] - 12s 3ms/sample - loss: 140106675.3584 - accuracy: 0.8894 - val_loss: 0.2693 - val_accuracy: 0.9435\n",
      "Epoch 3/10\n",
      "4457/4457 [==============================] - 11s 3ms/sample - loss: 0.2235 - accuracy: 0.9643 - val_loss: 0.1954 - val_accuracy: 0.9686\n",
      "Epoch 4/10\n",
      "4457/4457 [==============================] - 12s 3ms/sample - loss: 60.1434 - accuracy: 0.9749 - val_loss: 0.1516 - val_accuracy: 0.9731\n",
      "Epoch 5/10\n",
      "4457/4457 [==============================] - 13s 3ms/sample - loss: 19.4170 - accuracy: 0.9789 - val_loss: 0.1217 - val_accuracy: 0.9749\n",
      "Epoch 6/10\n",
      "4457/4457 [==============================] - 12s 3ms/sample - loss: 0.7812 - accuracy: 0.9838 - val_loss: 0.0990 - val_accuracy: 0.9767\n",
      "Epoch 7/10\n",
      "4457/4457 [==============================] - 11s 3ms/sample - loss: 30.9631 - accuracy: 0.9863 - val_loss: 0.0844 - val_accuracy: 0.9785\n",
      "Epoch 8/10\n",
      "4457/4457 [==============================] - 12s 3ms/sample - loss: 13.0568 - accuracy: 0.9877 - val_loss: 1.3223 - val_accuracy: 0.9776\n",
      "Epoch 9/10\n",
      "4457/4457 [==============================] - 11s 2ms/sample - loss: 1.9293 - accuracy: 0.9890 - val_loss: 260.6628 - val_accuracy: 0.9776\n",
      "Epoch 10/10\n",
      "4457/4457 [==============================] - 11s 2ms/sample - loss: 0.3723 - accuracy: 0.9899 - val_loss: 628.2407 - val_accuracy: 0.9776\n"
     ]
    }
   ],
   "source": [
    "r = model.fit(x_train, y_train, validation_data=(x_test, y_test), batch_size=32, epochs=10)"
   ]
  },
  {
   "cell_type": "code",
   "execution_count": 21,
   "metadata": {},
   "outputs": [
    {
     "data": {
      "image/png": "[encoded data removed]",
      "text/plain": [
       "<Figure size 432x288 with 1 Axes>"
      ]
     },
     "metadata": {
      "needs_background": "light"
     },
     "output_type": "display_data"
    },
    {
     "data": {
      "image/png": "[encoded data removed]",
      "text/plain": [
       "<Figure size 432x288 with 1 Axes>"
      ]
     },
     "metadata": {
      "needs_background": "light"
     },
     "output_type": "display_data"
    }
   ],
   "source": [
    "plt.plot(r.history['loss'], label='train')\n",
    "plt.plot(r.history['val_loss'], label='test')\n",
    "plt.legend()\n",
    "plt.title('Loss')\n",
    "plt.show()\n",
    "\n",
    "plt.plot(r.history['accuracy'], label='train')\n",
    "plt.plot(r.history['val_accuracy'], label='test')\n",
    "plt.legend()\n",
    "plt.title('Accuracy')\n",
    "plt.show()"
   ]
  },
  {
   "cell_type": "markdown",
   "metadata": {},
   "source": [
    "# Spam detection with CNN "
   ]
  },
  {
   "cell_type": "code",
   "execution_count": 77,
   "metadata": {},
   "outputs": [],
   "source": [
    "D = 20  # embedding_dim\n",
    "\n",
    "i = Input(shape=(T, ))\n",
    "x = i\n",
    "x = Embedding(input_dim=V, output_dim=D)(x)\n",
    "x = Conv1D(15, kernel_size=2, strides=2, padding='same')(x)\n",
    "x = GlobalMaxPool1D()(x)\n",
    "x = Dense(1, activation='sigmoid')(x)\n",
    "\n",
    "model = Model(i, x)"
   ]
  },
  {
   "cell_type": "code",
   "execution_count": 78,
   "metadata": {},
   "outputs": [
    {
     "name": "stdout",
     "output_type": "stream",
     "text": [
      "Model: \"model_4\"\n",
      "_________________________________________________________________\n",
      "Layer (type)                 Output Shape              Param #   \n",
      "=================================================================\n",
      "input_7 (InputLayer)         [(None, 189)]             0         \n",
      "_________________________________________________________________\n",
      "embedding_6 (Embedding)      (None, 189, 20)           159320    \n",
      "_________________________________________________________________\n",
      "conv1d_3 (Conv1D)            (None, 95, 15)            615       \n",
      "_________________________________________________________________\n",
      "global_max_pooling1d_4 (Glob (None, 15)                0         \n",
      "_________________________________________________________________\n",
      "dense_4 (Dense)              (None, 1)                 16        \n",
      "=================================================================\n",
      "Total params: 159,951\n",
      "Trainable params: 159,951\n",
      "Non-trainable params: 0\n",
      "_________________________________________________________________\n"
     ]
    }
   ],
   "source": [
    "model.compile(optimizer='adam',\n",
    "             loss='binary_crossentropy',\n",
    "             metrics=['accuracy'])\n",
    "model.summary()"
   ]
  },
  {
   "cell_type": "code",
   "execution_count": 79,
   "metadata": {},
   "outputs": [
    {
     "name": "stdout",
     "output_type": "stream",
     "text": [
      "Train on 4457 samples, validate on 1115 samples\n",
      "Epoch 1/10\n",
      "4457/4457 [==============================] - 2s 349us/sample - loss: 0.4693 - accuracy: 0.8622 - val_loss: 0.3588 - val_accuracy: 0.8628\n",
      "Epoch 2/10\n",
      "4457/4457 [==============================] - 1s 145us/sample - loss: 0.2639 - accuracy: 0.8896 - val_loss: 0.1697 - val_accuracy: 0.9435\n",
      "Epoch 3/10\n",
      "4457/4457 [==============================] - 1s 140us/sample - loss: 0.1075 - accuracy: 0.9652 - val_loss: 0.0899 - val_accuracy: 0.9731\n",
      "Epoch 4/10\n",
      "4457/4457 [==============================] - 1s 150us/sample - loss: 0.0536 - accuracy: 0.9836 - val_loss: 0.0689 - val_accuracy: 0.9776\n",
      "Epoch 5/10\n",
      "4457/4457 [==============================] - 1s 149us/sample - loss: 0.0318 - accuracy: 0.9910 - val_loss: 0.0571 - val_accuracy: 0.9785\n",
      "Epoch 6/10\n",
      "4457/4457 [==============================] - 1s 149us/sample - loss: 0.0203 - accuracy: 0.9957 - val_loss: 0.0505 - val_accuracy: 0.9812\n",
      "Epoch 7/10\n",
      "4457/4457 [==============================] - 1s 152us/sample - loss: 0.0134 - accuracy: 0.9982 - val_loss: 0.0468 - val_accuracy: 0.9848\n",
      "Epoch 8/10\n",
      "4457/4457 [==============================] - 1s 142us/sample - loss: 0.0090 - accuracy: 0.9984 - val_loss: 0.0438 - val_accuracy: 0.9848\n",
      "Epoch 9/10\n",
      "4457/4457 [==============================] - 1s 142us/sample - loss: 0.0065 - accuracy: 0.9991 - val_loss: 0.0423 - val_accuracy: 0.9848\n",
      "Epoch 10/10\n",
      "4457/4457 [==============================] - 1s 140us/sample - loss: 0.0048 - accuracy: 0.9996 - val_loss: 0.0420 - val_accuracy: 0.9848\n"
     ]
    }
   ],
   "source": [
    "r = model.fit(x_train, y_train, validation_data=(x_test, y_test), batch_size=32, epochs=10)"
   ]
  },
  {
   "cell_type": "code",
   "execution_count": 81,
   "metadata": {},
   "outputs": [
    {
     "data": {
      "image/png": "[encoded data removed]",
      "text/plain": [
       "<Figure size 432x288 with 1 Axes>"
      ]
     },
     "metadata": {
      "needs_background": "light"
     },
     "output_type": "display_data"
    },
    {
     "data": {
      "image/png": "[encoded data removed]",
      "text/plain": [
       "<Figure size 432x288 with 1 Axes>"
      ]
     },
     "metadata": {
      "needs_background": "light"
     },
     "output_type": "display_data"
    }
   ],
   "source": [
    "plt.plot(r.history['loss'], label='train')\n",
    "plt.plot(r.history['val_loss'], label='test')\n",
    "plt.legend()\n",
    "plt.title('Loss')\n",
    "plt.show()\n",
    "\n",
    "plt.plot(r.history['accuracy'], label='train')\n",
    "plt.plot(r.history['val_accuracy'], label='test')\n",
    "plt.legend()\n",
    "plt.title('Accuracy')\n",
    "plt.show()"
   ]
  },
  {
   "cell_type": "code",
   "execution_count": 101,
   "metadata": {},
   "outputs": [
    {
     "name": "stdout",
     "output_type": "stream",
     "text": [
      "\n",
      "Predicted ham, true spam:\n",
      "YOU 07801543489 are guaranteed the latests Nokia Phone, a 40GB iPod MP3 player or a å£500 prize! Txt word:COLLECT to No:83355! TC-LLC NY-USA 150p/Mt msgrcvd18+\n",
      "Continue? (Y/n): Y\n",
      "\n",
      "Predicted ham, true spam:\n",
      "RGENT! This is the 2nd attempt to contact U!U have WON å£1250 CALL 09071512433 b4 050703 T&CsBCM4235WC1N3XX. callcost 150ppm mobilesvary. maxå£7. 50\n",
      "Continue? (Y/n): Y\n",
      "\n",
      "Predicted ham, true spam:\n",
      "Well done ENGLAND! Get the official poly ringtone or colour flag on yer mobile! text TONE or FLAG to 84199 NOW! Opt-out txt ENG STOP. Box39822 W111WX å£1.50\n",
      "Continue? (Y/n): Y\n",
      "\n",
      "Predicted ham, true spam:\n",
      "December only! Had your mobile 11mths+? You are entitled to update to the latest colour camera mobile for Free! Call The Mobile Update Co FREE on 08002986906\n",
      "Continue? (Y/n): n\n"
     ]
    }
   ],
   "source": [
    "# Check wrong results\n",
    "p_test = np.argmax(model.predict(x_test), axis=1)\n",
    "misclassified = np.where(p_test != y_test)[0]\n",
    "for i in np.random.choice(misclassified, size=len(misclassified)):\n",
    "  print(f\"\\nPredicted {idx2lbl[p_test[i]]}, true {idx2lbl[y_test[i]]}:\")\n",
    "  print(f\"{X_test[i]}\")\n",
    "  answer = input(\"Continue? (Y/n): \")\n",
    "  if answer == \"n\": break"
   ]
  },
  {
   "cell_type": "code",
   "execution_count": null,
   "metadata": {},
   "outputs": [],
   "source": []
  }
 ],
 "metadata": {
  "kernelspec": {
   "display_name": "Python 3",
   "language": "python",
   "name": "python3"
  },
  "language_info": {
   "codemirror_mode": {
    "name": "ipython",
    "version": 3
   },
   "file_extension": ".py",
   "mimetype": "text/x-python",
   "name": "python",
   "nbconvert_exporter": "python",
   "pygments_lexer": "ipython3",
   "version": "3.6.4"
  }
 },
 "nbformat": 4,
 "nbformat_minor": 4
}
