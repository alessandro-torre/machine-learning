{
  "nbformat": 4,
  "nbformat_minor": 0,
  "metadata": {
    "colab": {
      "provenance": [],
      "authorship_tag": "ABX9TyNOThEwnsRejWb0Xy6KA5dB"
    },
    "kernelspec": {
      "name": "python3",
      "display_name": "Python 3"
    },
    "language_info": {
      "name": "python"
    }
  },
  "cells": [
    {
      "cell_type": "markdown",
      "source": [
        "Paper: https://arxiv.org/abs/1312.6114\n",
        "\n",
        "Pytorch tutorial with theory: https://avandekleut.github.io/vae/\n",
        "\n",
        "For more architectures, check: https://github.com/AntixK/PyTorch-VAE\n",
        "\n",
        "Recommended post: https://towardsdatascience.com/understanding-variational-autoencoders-vaes-f70510919f73"
      ],
      "metadata": {
        "id": "C6MpZAtd85eE"
      }
    },
    {
      "cell_type": "code",
      "execution_count": null,
      "metadata": {
        "id": "s8zMRsud1dJy"
      },
      "outputs": [],
      "source": []
    }
  ]
}