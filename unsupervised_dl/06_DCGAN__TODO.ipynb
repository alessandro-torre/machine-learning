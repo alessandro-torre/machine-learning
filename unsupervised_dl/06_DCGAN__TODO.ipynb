{
  "nbformat": 4,
  "nbformat_minor": 0,
  "metadata": {
    "colab": {
      "provenance": [],
      "authorship_tag": "ABX9TyP4KMOXNV7CxKfpsUFBaVNQ"
    },
    "kernelspec": {
      "name": "python3",
      "display_name": "Python 3"
    },
    "language_info": {
      "name": "python"
    }
  },
  "cells": [
    {
      "cell_type": "markdown",
      "source": [
        "GAN Paper: https://arxiv.org/abs/1406.2661\n",
        "\n",
        "DCGAN Paper: https://arxiv.org/pdf/1511.06434.pdf\n",
        "\n",
        "Pytorch tutorial: https://pytorch.org/tutorials/beginner/dcgan_faces_tutorial.html\n",
        "\n",
        "Tensorflow tutorial: https://www.tensorflow.org/tutorials/generative/dcgan\n",
        "\n",
        "\n",
        "Recommended post: https://towardsdatascience.com/understanding-generative-adversarial-networks-gans-cd6e4651a29"
      ],
      "metadata": {
        "id": "gF8KMKIC9TIR"
      }
    },
    {
      "cell_type": "code",
      "execution_count": null,
      "metadata": {
        "id": "OwfcUfYB9RMb"
      },
      "outputs": [],
      "source": []
    }
  ]
}